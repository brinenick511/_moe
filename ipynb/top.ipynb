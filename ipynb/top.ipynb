{
 "cells": [
  {
   "cell_type": "code",
   "execution_count": 1,
   "metadata": {},
   "outputs": [
    {
     "name": "stdout",
     "output_type": "stream",
     "text": [
      "torch.Size([26, 12314, 6])\n"
     ]
    }
   ],
   "source": [
    "import torch\n",
    "import dei_utils as Dei\n",
    "import matplotlib.pyplot as plt\n",
    "\n",
    "l=[]\n",
    "for i in range(27):\n",
    "    if i==0:continue\n",
    "    s=f'/new_data/yanghq/data/top/{i}.pt'\n",
    "    t=torch.load(s).to('cuda')\n",
    "    l.append(t)\n",
    "t = torch.stack(l,dim=0).to('cuda')\n",
    "print(t.shape)\n",
    "\n",
    "def count(tensor, threshold, is_return=False):\n",
    "    count = torch.count_nonzero(tensor > threshold)\n",
    "    pc = (count/tensor.numel()).item()\n",
    "    if is_return:\n",
    "        return pc\n",
    "    else:\n",
    "        print(f'{count}/{tensor.numel()} = {pc:.2f}')\n",
    "        return\n",
    "    \n",
    "def draw(tensor,title=None):\n",
    "    plt.figure(figsize=(5, 3), dpi=100) \n",
    "    x_list = []\n",
    "    y_list = []\n",
    "    for i in range(21):\n",
    "        x = i*0.05\n",
    "        x_list.append(x)\n",
    "        y_list.append(count(tensor,x,True))\n",
    "    plt.plot(\n",
    "        x_list, y_list, \n",
    "        # marker='o', \n",
    "        linestyle='-', \n",
    "        color='b'\n",
    "        )\n",
    "    if title:\n",
    "        plt.title(title)\n",
    "    plt.xlabel('Threshold')\n",
    "    plt.ylabel('Percent')\n",
    "    plt.show()\n",
    "    plt.close()\n",
    "\n",
    "def draw_batch(tensors, titles):\n",
    "    plt.figure(figsize=(7, 5), dpi=250) \n",
    "    x_list = [i * 0.05 for i in range(21)]\n",
    "    \n",
    "    for tensor, title in zip(tensors, titles):\n",
    "        y_list = [count(tensor, x, True)*100 for x in x_list]\n",
    "        plt.plot(x_list, y_list, linestyle='-', label=title)  \n",
    "\n",
    "    plt.xlabel('Threshold')\n",
    "    plt.ylabel('Percent')\n",
    "    plt.legend()  # 添加图例\n",
    "    plt.show()\n",
    "    plt.close()\n"
   ]
  },
  {
   "cell_type": "code",
   "execution_count": 2,
   "metadata": {},
   "outputs": [
    {
     "data": {
      "text/plain": [
       "tensor([0.7737, 0.7934, 0.7897, 0.7451, 0.7767, 0.7429, 0.7510, 0.7408, 0.7324,\n",
       "        0.7274, 0.7367, 0.7583, 0.7281, 0.7381, 0.7543, 0.7694, 0.7716, 0.7461,\n",
       "        0.7815, 0.7654, 0.7645, 0.7546, 0.7634, 0.7545, 0.7593, 0.7608],\n",
       "       device='cuda:0')"
      ]
     },
     "execution_count": 2,
     "metadata": {},
     "output_type": "execute_result"
    }
   ],
   "source": [
    "s6 = t.sum(dim=-1)\n",
    "top3 = t.topk(k=3,dim=-1)[0]\n",
    "s3 = top3.sum(dim=-1)\n",
    "overlap = s3/s6\n",
    "# s_k = [ l, bs*seq ]\n",
    "# print(s3.mean(dim=-1))\n",
    "overlap.mean(dim=-1)\n",
    "# print(overlap.mean(dim=-1))\n",
    "# count(s3,0.4)\n",
    "# count(overlap,0.89)\n",
    "\n",
    "# draw(s3,'top3/all')\n",
    "# draw(overlap,'top3/top6')\n",
    "# draw_batch([s3,s6,overlap],['top3/all','top6/all','top3/top6'])"
   ]
  },
  {
   "cell_type": "code",
   "execution_count": 13,
   "metadata": {},
   "outputs": [
    {
     "data": {
      "text/plain": [
       "tensor(3346.4048)"
      ]
     },
     "execution_count": 13,
     "metadata": {},
     "output_type": "execute_result"
    }
   ],
   "source": [
    "import torch\n",
    "a = torch.rand([3,4,555])\n",
    "a.sum()"
   ]
  },
  {
   "cell_type": "code",
   "execution_count": null,
   "metadata": {},
   "outputs": [
    {
     "name": "stdout",
     "output_type": "stream",
     "text": [
      "168568/320164 = 0.53\n"
     ]
    },
    {
     "data": {
      "text/plain": [
       "4.41"
      ]
     },
     "execution_count": 6,
     "metadata": {},
     "output_type": "execute_result"
    }
   ],
   "source": [
    "count(overlap,0.7)\n",
    "6-6*(0.53*0.5)"
   ]
  },
  {
   "cell_type": "code",
   "execution_count": null,
   "metadata": {},
   "outputs": [],
   "source": []
  }
 ],
 "metadata": {
  "kernelspec": {
   "display_name": "kivi",
   "language": "python",
   "name": "python3"
  },
  "language_info": {
   "codemirror_mode": {
    "name": "ipython",
    "version": 3
   },
   "file_extension": ".py",
   "mimetype": "text/x-python",
   "name": "python",
   "nbconvert_exporter": "python",
   "pygments_lexer": "ipython3",
   "version": "3.10.15"
  }
 },
 "nbformat": 4,
 "nbformat_minor": 2
}
