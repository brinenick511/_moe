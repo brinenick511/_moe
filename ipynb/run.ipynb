{
 "cells": [
  {
   "cell_type": "code",
   "execution_count": 8,
   "metadata": {},
   "outputs": [
    {
     "data": {
      "text/plain": [
       "'rou_cos_6_min rou_cos_6_max exp_cos_6_max rou_cos_4_min exp_cos_6_avg rou_cos_4_max exp_cos_6_min rou_cos_6_avg exp_cos_4_avg rou_cos_4_avg exp_cos_4_max exp_cos_4_min '"
      ]
     },
     "execution_count": 8,
     "metadata": {},
     "output_type": "execute_result"
    }
   ],
   "source": [
    "import os\n",
    "\n",
    "directory = '/new_data/yanghq/data/group'\n",
    "files = os.listdir(directory)\n",
    "\n",
    "l=[]\n",
    "\n",
    "for file in files:\n",
    "    full_path = os.path.join(directory, file)\n",
    "    if os.path.isfile(full_path):\n",
    "        l.append(file[:-3])\n",
    "# print(l)\n",
    "sorted_l = sorted(l)\n",
    "# print(sorted_l)\n",
    "s=''\n",
    "for ss in l:\n",
    "    s=f'{s}{ss} '\n",
    "\n",
    "s"
   ]
  },
  {
   "cell_type": "code",
   "execution_count": 1,
   "metadata": {},
   "outputs": [
    {
     "data": {
      "text/plain": [
       "'rou_mse_6_min rou_mse_6_max exp_mse_6_max rou_mse_4_min exp_mse_6_avg rou_mse_4_max exp_mse_6_min rou_mse_6_avg exp_mse_4_avg rou_mse_4_avg exp_mse_4_max exp_mse_4_min '"
      ]
     },
     "execution_count": 1,
     "metadata": {},
     "output_type": "execute_result"
    }
   ],
   "source": [
    "s='rou_cos_6_min rou_cos_6_max exp_cos_6_max rou_cos_4_min exp_cos_6_avg rou_cos_4_max exp_cos_6_min rou_cos_6_avg exp_cos_4_avg rou_cos_4_avg exp_cos_4_max exp_cos_4_min '\n",
    "s=s.replace('cos','mse')\n",
    "s"
   ]
  },
  {
   "cell_type": "code",
   "execution_count": null,
   "metadata": {},
   "outputs": [],
   "source": []
  }
 ],
 "metadata": {
  "kernelspec": {
   "display_name": "kivi",
   "language": "python",
   "name": "python3"
  },
  "language_info": {
   "codemirror_mode": {
    "name": "ipython",
    "version": 3
   },
   "file_extension": ".py",
   "mimetype": "text/x-python",
   "name": "python",
   "nbconvert_exporter": "python",
   "pygments_lexer": "ipython3",
   "version": "3.10.15"
  }
 },
 "nbformat": 4,
 "nbformat_minor": 2
}
