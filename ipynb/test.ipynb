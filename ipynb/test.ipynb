{
 "cells": [
  {
   "cell_type": "code",
   "execution_count": 1,
   "metadata": {},
   "outputs": [
    {
     "name": "stderr",
     "output_type": "stream",
     "text": [
      "/new_data/yanghq/utils/anaconda3/envs/kivi/lib/python3.10/site-packages/tqdm/auto.py:21: TqdmWarning: IProgress not found. Please update jupyter and ipywidgets. See https://ipywidgets.readthedocs.io/en/stable/user_install.html\n",
      "  from .autonotebook import tqdm as notebook_tqdm\n",
      "Loading checkpoint shards: 100%|██████████| 27/27 [00:16<00:00,  1.68it/s]\n"
     ]
    }
   ],
   "source": [
    "import os\n",
    "os.environ['CUDA_VISIBLE_DEVICES'] = '0,1,2,'\n",
    "\n",
    "import torch\n",
    "from transformers import AutoModelForCausalLM\n",
    "import dei_utils as Dei\n",
    "\n",
    "model_name = '/new_data/yanghq/models/moonshotai/Moonlight-16B-A3B'\n",
    "model = AutoModelForCausalLM.from_pretrained(model_name,trust_remote_code=True, torch_dtype=torch.bfloat16, device_map='auto')\n"
   ]
  },
  {
   "cell_type": "code",
   "execution_count": null,
   "metadata": {},
   "outputs": [
    {
     "data": {
      "text/plain": [
       "DeepseekV3Model(\n",
       "  (embed_tokens): Embedding(163840, 2048)\n",
       "  (layers): ModuleList(\n",
       "    (0): DeepseekV3DecoderLayer(\n",
       "      (self_attn): DeepseekV3Attention(\n",
       "        (q_proj): Linear(in_features=2048, out_features=3072, bias=False)\n",
       "        (kv_a_proj_with_mqa): Linear(in_features=2048, out_features=576, bias=False)\n",
       "        (kv_a_layernorm): DeepseekV3RMSNorm()\n",
       "        (kv_b_proj): Linear(in_features=512, out_features=4096, bias=False)\n",
       "        (o_proj): Linear(in_features=2048, out_features=2048, bias=False)\n",
       "        (rotary_emb): DeepseekV3RotaryEmbedding()\n",
       "      )\n",
       "      (mlp): DeepseekV3MLP(\n",
       "        (gate_proj): Linear(in_features=2048, out_features=11264, bias=False)\n",
       "        (up_proj): Linear(in_features=2048, out_features=11264, bias=False)\n",
       "        (down_proj): Linear(in_features=11264, out_features=2048, bias=False)\n",
       "        (act_fn): SiLU()\n",
       "      )\n",
       "      (input_layernorm): DeepseekV3RMSNorm()\n",
       "      (post_attention_layernorm): DeepseekV3RMSNorm()\n",
       "    )\n",
       "    (1-26): 26 x DeepseekV3DecoderLayer(\n",
       "      (self_attn): DeepseekV3Attention(\n",
       "        (q_proj): Linear(in_features=2048, out_features=3072, bias=False)\n",
       "        (kv_a_proj_with_mqa): Linear(in_features=2048, out_features=576, bias=False)\n",
       "        (kv_a_layernorm): DeepseekV3RMSNorm()\n",
       "        (kv_b_proj): Linear(in_features=512, out_features=4096, bias=False)\n",
       "        (o_proj): Linear(in_features=2048, out_features=2048, bias=False)\n",
       "        (rotary_emb): DeepseekV3RotaryEmbedding()\n",
       "      )\n",
       "      (mlp): DeepseekV3MoE(\n",
       "        (experts): ModuleList(\n",
       "          (0-63): 64 x DeepseekV3MLP(\n",
       "            (gate_proj): Linear(in_features=2048, out_features=1408, bias=False)\n",
       "            (up_proj): Linear(in_features=2048, out_features=1408, bias=False)\n",
       "            (down_proj): Linear(in_features=1408, out_features=2048, bias=False)\n",
       "            (act_fn): SiLU()\n",
       "          )\n",
       "        )\n",
       "        (gate): MoEGate()\n",
       "        (shared_experts): DeepseekV3MLP(\n",
       "          (gate_proj): Linear(in_features=2048, out_features=2816, bias=False)\n",
       "          (up_proj): Linear(in_features=2048, out_features=2816, bias=False)\n",
       "          (down_proj): Linear(in_features=2816, out_features=2048, bias=False)\n",
       "          (act_fn): SiLU()\n",
       "        )\n",
       "      )\n",
       "      (input_layernorm): DeepseekV3RMSNorm()\n",
       "      (post_attention_layernorm): DeepseekV3RMSNorm()\n",
       "    )\n",
       "  )\n",
       "  (norm): DeepseekV3RMSNorm()\n",
       ")"
      ]
     },
     "execution_count": 14,
     "metadata": {},
     "output_type": "execute_result"
    }
   ],
   "source": [
    "router_path = 'model.layers.{}.mlp.gate.weight'.format(0)\n",
    "router_path = 'layers[0].mlp.gate'\n",
    "layer_path = 'model'\n",
    "router_path = 'mlp.gate'\n",
    "a=getattr(model,layer_path)\n",
    "a"
   ]
  },
  {
   "cell_type": "code",
   "execution_count": 6,
   "metadata": {},
   "outputs": [
    {
     "ename": "ImportError",
     "evalue": "attempted relative import with no known parent package",
     "output_type": "error",
     "traceback": [
      "\u001b[0;31m---------------------------------------------------------------------------\u001b[0m",
      "\u001b[0;31mImportError\u001b[0m                               Traceback (most recent call last)",
      "Cell \u001b[0;32mIn[6], line 6\u001b[0m\n\u001b[1;32m      4\u001b[0m \u001b[38;5;28;01mimport\u001b[39;00m \u001b[38;5;21;01mtorch\u001b[39;00m\n\u001b[1;32m      5\u001b[0m \u001b[38;5;28;01mimport\u001b[39;00m \u001b[38;5;21;01mdei_utils\u001b[39;00m \u001b[38;5;28;01mas\u001b[39;00m \u001b[38;5;21;01mDei\u001b[39;00m\n\u001b[0;32m----> 6\u001b[0m \u001b[38;5;28;01mfrom\u001b[39;00m \u001b[38;5;21;01m.\u001b[39;00m\u001b[38;5;21;01m.\u001b[39;00m\u001b[38;5;21;01mgrouping\u001b[39;00m\u001b[38;5;21;01m.\u001b[39;00m\u001b[38;5;21;01mmoe_worker\u001b[39;00m \u001b[38;5;28;01mimport\u001b[39;00m MoEWorker\n",
      "\u001b[0;31mImportError\u001b[0m: attempted relative import with no known parent package"
     ]
    }
   ],
   "source": [
    "import os\n",
    "os.environ['CUDA_VISIBLE_DEVICES'] = '9'\n",
    "\n",
    "import torch\n",
    "import dei_utils as Dei\n",
    "from ..grouping.moe_worker import MoEWorker"
   ]
  },
  {
   "cell_type": "code",
   "execution_count": null,
   "metadata": {},
   "outputs": [],
   "source": []
  }
 ],
 "metadata": {
  "kernelspec": {
   "display_name": "kivi",
   "language": "python",
   "name": "python3"
  },
  "language_info": {
   "codemirror_mode": {
    "name": "ipython",
    "version": 3
   },
   "file_extension": ".py",
   "mimetype": "text/x-python",
   "name": "python",
   "nbconvert_exporter": "python",
   "pygments_lexer": "ipython3",
   "version": "3.10.15"
  }
 },
 "nbformat": 4,
 "nbformat_minor": 2
}
