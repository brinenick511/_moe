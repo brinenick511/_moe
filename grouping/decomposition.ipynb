{
 "cells": [
  {
   "cell_type": "code",
   "execution_count": 16,
   "metadata": {},
   "outputs": [],
   "source": [
    "import os\n",
    "os.environ['CUDA_VISIBLE_DEVICES'] = '9'\n",
    "\n",
    "import torch\n",
    "import dei_utils as Dei\n",
    "from moe_worker import MoEWorker\n",
    "\n",
    "model_name = '/new_data/yanghq/models/deepseek-ai/DeepSeek-V2-Lite'\n",
    "worker = MoEWorker(model_name)\n",
    "\n",
    "experts = worker.get_expert(1,False)\n",
    "weight = experts[0,0].to('cuda').to(torch.float)\n",
    "W = weight.clone()"
   ]
  },
  {
   "cell_type": "code",
   "execution_count": null,
   "metadata": {},
   "outputs": [
    {
     "name": "stdout",
     "output_type": "stream",
     "text": [
      "推荐的 r 是: 1409\n"
     ]
    },
    {
     "ename": "",
     "evalue": "",
     "output_type": "error",
     "traceback": [
      "\u001b[1;31m在当前单元格或上一个单元格中执行代码时 Kernel 崩溃。\n",
      "\u001b[1;31m请查看单元格中的代码，以确定故障的可能原因。\n",
      "\u001b[1;31m单击<a href='https://aka.ms/vscodeJupyterKernelCrash'>此处</a>了解详细信息。\n",
      "\u001b[1;31m有关更多详细信息，请查看 Jupyter <a href='command:jupyter.viewOutput'>log</a>。"
     ]
    }
   ],
   "source": [
    "# SVD 分解（放在 GPU 上）\n",
    "U, S, Vh = torch.linalg.svd(W, full_matrices=False)\n",
    "\n",
    "# 累积能量百分比\n",
    "total_energy = torch.sum(S)\n",
    "energy_threshold = 1  # 95% 能量\n",
    "cum_energy = torch.cumsum(S, dim=0)\n",
    "r = torch.searchsorted(cum_energy, total_energy * energy_threshold).item() + 1\n",
    "\n",
    "print(f\"推荐的 r 是: {r}\")\n"
   ]
  },
  {
   "cell_type": "code",
   "execution_count": null,
   "metadata": {},
   "outputs": [],
   "source": []
  }
 ],
 "metadata": {
  "kernelspec": {
   "display_name": "kivi",
   "language": "python",
   "name": "python3"
  },
  "language_info": {
   "codemirror_mode": {
    "name": "ipython",
    "version": 3
   },
   "file_extension": ".py",
   "mimetype": "text/x-python",
   "name": "python",
   "nbconvert_exporter": "python",
   "pygments_lexer": "ipython3",
   "version": "3.10.15"
  }
 },
 "nbformat": 4,
 "nbformat_minor": 2
}
